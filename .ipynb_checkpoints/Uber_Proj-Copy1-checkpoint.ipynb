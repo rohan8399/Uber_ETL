{
 "cells": [
  {
   "cell_type": "code",
   "execution_count": null,
   "id": "fe1e874a-03f2-4610-a6d7-8bc516b6754b",
   "metadata": {},
   "outputs": [],
   "source": [
    "import io\n",
    "import pandas as pd\n",
    "import requests"
   ]
  },
  {
   "cell_type": "code",
   "execution_count": null,
   "id": "b25bc35f-2d7f-4972-9057-dc026989ae89",
   "metadata": {},
   "outputs": [],
   "source": [
    "df = pd.read_csv(\"uber_data.csv\")"
   ]
  }
 ],
 "metadata": {
  "kernelspec": {
   "display_name": "Python 3 (ipykernel)",
   "language": "python",
   "name": "python3"
  },
  "language_info": {
   "codemirror_mode": {
    "name": "ipython",
    "version": 3
   },
   "file_extension": ".py",
   "mimetype": "text/x-python",
   "name": "python",
   "nbconvert_exporter": "python",
   "pygments_lexer": "ipython3",
   "version": "3.11.5"
  }
 },
 "nbformat": 4,
 "nbformat_minor": 5
}
